{
 "cells": [
  {
   "cell_type": "code",
   "execution_count": 23,
   "id": "faab66f7-5c10-49f6-88e4-02d07c046e47",
   "metadata": {},
   "outputs": [
    {
     "name": "stdin",
     "output_type": "stream",
     "text": [
      "Enter you name:  Yahya\n",
      "Enter your weight in pounds:  171\n",
      "Enter your height in inches:  66\n"
     ]
    },
    {
     "name": "stdout",
     "output_type": "stream",
     "text": [
      "Enter you name: Yahya\n",
      "Enter your weight in pounds: 171\n",
      "Enter your height in inches: 66\n",
      "\n",
      "\n",
      "Yahya ,your Body Mass Index(BMI) is :  27.59710743801653\n",
      "\n",
      "\n",
      "You are overweight. You need to exercise.\n"
     ]
    }
   ],
   "source": [
    "name = input(\"Enter you name: \")\n",
    "\n",
    "weight = int(input(\"Enter your weight in pounds: \"))\n",
    "\n",
    "height = int(input(\"Enter your height in inches: \"))\n",
    "\n",
    "BMI = (weight * 703) / (height * height)\n",
    "\n",
    "print(\"Enter you name:\",name)\n",
    "print(\"Enter your weight in pounds:\",weight)\n",
    "print(\"Enter your height in inches:\",height)\n",
    "\n",
    "print(\"\\n\")\n",
    "print(name,\",your Body Mass Index(BMI) is : \",BMI)\n",
    "print(\"\\n\")\n",
    "\n",
    "if BMI>0:\n",
    "    if(BMI<18.5):\n",
    "        print(\"You are underwight.\")\n",
    "    elif (BMI<=24.9):\n",
    "        print(\"You are normal weight.\")\n",
    "    elif (BMI<29.9):\n",
    "        print(\"You are overweight. You need to exercise.\")\n",
    "    elif (BMI<34.9):\n",
    "        print(\"You are obese.\")\n",
    "    elif (BMI<39.9):\n",
    "        print(\"You are severely obese.\")\n",
    "    else:\n",
    "        print(\"You are morbidly obese.\")\n",
    "else:\n",
    "    print(\"Enter valid input\")"
   ]
  },
  {
   "cell_type": "code",
   "execution_count": null,
   "id": "ac42410c-9498-4292-b11e-b52fe8fd884f",
   "metadata": {},
   "outputs": [],
   "source": []
  },
  {
   "cell_type": "code",
   "execution_count": null,
   "id": "90ecdca3-511a-44d4-be65-20be3fad60f8",
   "metadata": {},
   "outputs": [],
   "source": []
  },
  {
   "cell_type": "code",
   "execution_count": null,
   "id": "0ab2d7f7-e752-4b80-96eb-e85167ceba6d",
   "metadata": {},
   "outputs": [],
   "source": [
    "#BMI = (weight in pounds x 703) / (height in inches x height in inches)"
   ]
  }
 ],
 "metadata": {
  "kernelspec": {
   "display_name": "Python 3 (ipykernel)",
   "language": "python",
   "name": "python3"
  },
  "language_info": {
   "codemirror_mode": {
    "name": "ipython",
    "version": 3
   },
   "file_extension": ".py",
   "mimetype": "text/x-python",
   "name": "python",
   "nbconvert_exporter": "python",
   "pygments_lexer": "ipython3",
   "version": "3.12.0"
  }
 },
 "nbformat": 4,
 "nbformat_minor": 5
}

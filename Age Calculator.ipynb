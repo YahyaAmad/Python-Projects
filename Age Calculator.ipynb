{
 "cells": [
  {
   "cell_type": "code",
   "execution_count": 8,
   "id": "a48eb27d-21dc-42b9-8e5f-94ee239f8d50",
   "metadata": {},
   "outputs": [
    {
     "name": "stdin",
     "output_type": "stream",
     "text": [
      "Enter you name:  yahya\n",
      "Enter today's year:  2024\n",
      "Enter your birth year:  1984\n"
     ]
    },
    {
     "name": "stdout",
     "output_type": "stream",
     "text": [
      "40\n",
      "yahya, you are Adult.\n"
     ]
    }
   ],
   "source": [
    "name = input(\"Enter you name: \")\n",
    "\n",
    "today_year = int(input(\"Enter today's year: \"))\n",
    "\n",
    "birth_year = int(input(\"Enter your birth year: \"))\n",
    "\n",
    "age = today_year-birth_year\n",
    "\n",
    "print(age)\n",
    "\n",
    "if age>0:\n",
    "    if(age<=1):\n",
    "        print(name +\", you are Infants.\")\n",
    "    elif (age<=12):\n",
    "        print(name +\", you are Children.\")\n",
    "    elif (age<18):\n",
    "        print(name +\", you are Adolescents.\")\n",
    "    elif (age<=40):\n",
    "        print(name +\", you are Adult.\")\n",
    "    elif (age<60):\n",
    "        print(name +\", you are older.\")\n",
    "    else:\n",
    "        print(name +\", you are oldest person.\")\n",
    "else:\n",
    "    print(\"Enter valid input\")"
   ]
  },
  {
   "cell_type": "code",
   "execution_count": null,
   "id": "c308573f-4b50-4a15-ad1f-e6becbe2c1c9",
   "metadata": {},
   "outputs": [],
   "source": []
  }
 ],
 "metadata": {
  "kernelspec": {
   "display_name": "Python 3 (ipykernel)",
   "language": "python",
   "name": "python3"
  },
  "language_info": {
   "codemirror_mode": {
    "name": "ipython",
    "version": 3
   },
   "file_extension": ".py",
   "mimetype": "text/x-python",
   "name": "python",
   "nbconvert_exporter": "python",
   "pygments_lexer": "ipython3",
   "version": "3.12.0"
  }
 },
 "nbformat": 4,
 "nbformat_minor": 5
}
